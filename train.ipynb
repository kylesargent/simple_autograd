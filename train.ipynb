{
 "cells": [
  {
   "cell_type": "code",
   "execution_count": 149,
   "id": "77c68ce1-803d-48ca-b09d-b7b25d91a872",
   "metadata": {},
   "outputs": [
    {
     "name": "stdout",
     "output_type": "stream",
     "text": [
      "reset graph!\n",
      "The autoreload extension is already loaded. To reload it, use:\n",
      "  %reload_ext autoreload\n"
     ]
    }
   ],
   "source": [
    "%load_ext autoreload\n",
    "%autoreload 2\n",
    "\n",
    "import engine"
   ]
  },
  {
   "cell_type": "code",
   "execution_count": 80,
   "id": "eb27c1f5-0308-4ac7-b3d0-c2e24d68db43",
   "metadata": {
    "scrolled": true
   },
   "outputs": [],
   "source": [
    "from torchvision import datasets, transforms\n",
    "train_dataset = datasets.MNIST(\n",
    "    root='./data', train=True, download=True\n",
    ")\n",
    "dataset = train_dataset.data.cpu().numpy()\n",
    "labels = train_dataset.train_labels.cpu().numpy()"
   ]
  },
  {
   "cell_type": "code",
   "execution_count": 81,
   "id": "8bf6a6bb-e1c3-4f13-b2ad-10752c7c2336",
   "metadata": {},
   "outputs": [
    {
     "data": {
      "text/html": [
       "<table class=\"show_images\" style=\"border-spacing:0px;\"><tr><td style=\"padding:1px;\"><img width=\"512\" height=\"512\" style=\"image-rendering:pixelated; object-fit:cover;\" src=\"data:image/png;base64,iVBORw0KGgoAAAANSUhEUgAAABwAAAAcCAIAAAD9b0jDAAAB7ElEQVR4nO2UP8hxURjAz0VKittd/CuLwSDKICWDDEbdE5OyyMZksTEpg0ky3AwmC2VQdyAKpQwGA5IMhJXrT7crx32H2/flfT/vHzJ93/ebTj3P+XWenvM8APzn70EsFhO/SCQS6XS6Wq1qtdpSqcTzPMuyyWTyNl/ymUiv10ulUofD4XQ6cRz3+Xy30dVqlc1mIYSHw2E4HLbb7dsodtdotVqbzaZSqbwbvV6voVDodDoBADabzXa7nU6n39dLEMRsNkPv6fV6NE2zLMswzPeKu5AkWSgUIpGIYBwMBnK5HABgMpkoinpSCgBQKBQYhlEUhRAKBAI/vyj6Irbf73meF4oNh8Mi0VfJjyGXy1utFkLI4/G8TAoAMBgMDMMsFotisRiNRjHs/p95GAjhbrcTmhaPxzUazWu8ZrO5Xq8L3nw+r9PpXuPFcTwYDF4uF4RQo9F4jVSA4ziEEMdxLpfrbsKns/8nFovF7/fbbDaJRAIAGI/HnU7n+acZjcZcLrder3+P7Pl8pmn6SZ1arY7FYvP5/HYJ9Pt9r9f7jE6lUrnd7tFo9GGnQAifGS2CIMrl8oct1e12SZKUyWQP6+x2e6VSWS6Xt7rj8ZhKpYQV9UPedR9CCCEUzpPJpFarIYQymcxut3v4gf8wb5vwG2+h9UGFAAAAAElFTkSuQmCC\"/></td></tr></table>"
      ],
      "text/plain": [
       "<IPython.core.display.HTML object>"
      ]
     },
     "metadata": {},
     "output_type": "display_data"
    }
   ],
   "source": [
    "import mediapy\n",
    "mediapy.show_image(dataset[0], height=512, width=512)"
   ]
  },
  {
   "cell_type": "code",
   "execution_count": 215,
   "id": "78da3c8a-9d62-48b5-a0bb-5afead75b712",
   "metadata": {},
   "outputs": [],
   "source": [
    "import numpy as np\n",
    "from engine import Variable\n",
    "\n",
    "scale = .1\n",
    "weights = [\n",
    "    Variable(\"w1\", np.random.randn(*(28*28, 28*28+1)) * scale),\n",
    "    Variable(\"w2\", np.random.randn(*(28*28, 28*28)) * scale),\n",
    "    Variable(\"w3\", np.random.randn(*(10, 28*28)) * scale),\n",
    "]"
   ]
  },
  {
   "cell_type": "code",
   "execution_count": null,
   "id": "a94ef621-30b5-4ba2-8eee-275bcf107310",
   "metadata": {
    "scrolled": true
   },
   "outputs": [],
   "source": [
    "import engine\n",
    "engine._reset_graph()\n",
    "import random\n",
    "\n",
    "lr = 1e-2\n",
    "\n",
    "while True:\n",
    "    # run forward\n",
    "    idxs = np.random.randint(0, 60_000, size=(1,))\n",
    "    for idx in idxs:\n",
    "        x = dataset[idx].reshape((28*28))/255.\n",
    "        y = labels[idx]\n",
    "\n",
    "        x_biased = np.concatenate([x, np.ones((1,))])[:, None]\n",
    "        input = Variable('input', x_biased)\n",
    "\n",
    "        h = input\n",
    "        # print(h.value.shape)\n",
    "        for layer in weights:\n",
    "            h = engine.Matmul.forward([layer, h])\n",
    "            h = engine.ReLU.forward([h])\n",
    "            # print(h.value.shape)\n",
    "        \n",
    "        h = engine.Reshape.forward([h], shape=(-1,))\n",
    "        probs = engine.Softmax.forward([h])\n",
    "        probs = engine.Reshape.forward([probs], shape=(1,10))\n",
    "        logprobs = engine.Log.forward([probs])\n",
    "        \n",
    "        one_hot = np.zeros((10,1))\n",
    "        one_hot[y] = -1\n",
    "        one_hot = Variable('one_hot', one_hot)\n",
    "\n",
    "        loss = engine.Matmul.forward([logprobs, one_hot])\n",
    "        print(loss.value)\n",
    "        print(np.argmax(probs.value).item() == y.item())\n",
    "\n",
    "        engine.backward(loss)\n",
    "\n",
    "        for weight in weights:\n",
    "            grad = engine.GRAPH[weight.name]['grad']\n",
    "            assert grad.shape == weight.value.shape\n",
    "            np.subtract(weight.value, lr * grad, out=weight.value)\n",
    "            \n",
    "        engine._reset_graph()"
   ]
  },
  {
   "cell_type": "code",
   "execution_count": 218,
   "id": "cfcdfd9d-bcd1-4ed5-a3e2-a1d23d10a7f5",
   "metadata": {},
   "outputs": [
    {
     "data": {
      "text/plain": [
       "(Variable(name='5180541113180770272', value=array([[-1.34010003e+01, -1.34010003e+01, -1.36227566e-05,\n",
       "         -1.34010003e+01, -1.34010003e+01, -1.34010003e+01,\n",
       "         -1.34010003e+01, -1.34010003e+01, -1.34010003e+01,\n",
       "         -1.34010003e+01]])),\n",
       " Variable(name='-1254749474005433727', value=array([[1.51362931e-06, 1.51362931e-06, 9.99986377e-01, 1.51362931e-06,\n",
       "         1.51362931e-06, 1.51362931e-06, 1.51362931e-06, 1.51362931e-06,\n",
       "         1.51362931e-06, 1.51362931e-06]])))"
      ]
     },
     "execution_count": 218,
     "metadata": {},
     "output_type": "execute_result"
    }
   ],
   "source": [
    "logprobs, probs"
   ]
  },
  {
   "cell_type": "code",
   "execution_count": 219,
   "id": "ce1ada6b-f780-4a51-baa0-18f2692d4ed4",
   "metadata": {},
   "outputs": [
    {
     "data": {
      "text/plain": [
       "np.int64(2)"
      ]
     },
     "execution_count": 219,
     "metadata": {},
     "output_type": "execute_result"
    }
   ],
   "source": [
    "y"
   ]
  },
  {
   "cell_type": "code",
   "execution_count": null,
   "id": "a4c3e156-a580-47f6-92c1-8c4f880d2d84",
   "metadata": {},
   "outputs": [],
   "source": []
  }
 ],
 "metadata": {
  "kernelspec": {
   "display_name": "cogvideo",
   "language": "python",
   "name": "cogvideo"
  },
  "language_info": {
   "codemirror_mode": {
    "name": "ipython",
    "version": 3
   },
   "file_extension": ".py",
   "mimetype": "text/x-python",
   "name": "python",
   "nbconvert_exporter": "python",
   "pygments_lexer": "ipython3",
   "version": "3.10.14"
  }
 },
 "nbformat": 4,
 "nbformat_minor": 5
}
